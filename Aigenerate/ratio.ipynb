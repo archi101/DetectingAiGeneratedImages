{
 "cells": [
  {
   "cell_type": "code",
   "execution_count": 1,
   "metadata": {},
   "outputs": [],
   "source": [
    "import pandas as pd\n",
    "import numpy as np\n"
   ]
  },
  {
   "cell_type": "code",
   "execution_count": 2,
   "metadata": {},
   "outputs": [
    {
     "data": {
      "text/plain": [
       "(24130, 11)"
      ]
     },
     "execution_count": 2,
     "metadata": {},
     "output_type": "execute_result"
    }
   ],
   "source": [
    "df = pd.read_csv('df_final.csv')\n",
    "df.head()\n",
    "df.shape"
   ]
  },
  {
   "cell_type": "code",
   "execution_count": 3,
   "metadata": {},
   "outputs": [
    {
     "data": {
      "text/plain": [
       "(64441, 6)"
      ]
     },
     "execution_count": 3,
     "metadata": {},
     "output_type": "execute_result"
    }
   ],
   "source": [
    "data = pd.read_csv('merge_df.csv')\n",
    "data.head()\n",
    "data.shape"
   ]
  },
  {
   "cell_type": "code",
   "execution_count": 4,
   "metadata": {},
   "outputs": [
    {
     "name": "stdout",
     "output_type": "stream",
     "text": [
      "Unnamed: 0\n",
      "38       0.000041\n",
      "16121    0.000041\n",
      "16130    0.000041\n",
      "16129    0.000041\n",
      "16128    0.000041\n",
      "           ...   \n",
      "8079     0.000041\n",
      "8078     0.000041\n",
      "8077     0.000041\n",
      "8076     0.000041\n",
      "24167    0.000041\n",
      "Name: proportion, Length: 24130, dtype: float64\n",
      "s.no\n",
      "500      0.000041\n",
      "2302     0.000041\n",
      "2345     0.000041\n",
      "2341     0.000041\n",
      "2333     0.000041\n",
      "           ...   \n",
      "38743    0.000041\n",
      "38739    0.000041\n",
      "38705    0.000041\n",
      "38689    0.000041\n",
      "16751    0.000041\n",
      "Name: proportion, Length: 24130, dtype: float64\n",
      "Name\n",
      "00500.png    0.000041\n",
      "02302.png    0.000041\n",
      "02345.png    0.000041\n",
      "02341.png    0.000041\n",
      "02333.png    0.000041\n",
      "               ...   \n",
      "44302.png    0.000041\n",
      "44298.png    0.000041\n",
      "44264.png    0.000041\n",
      "44248.png    0.000041\n",
      "22310.png    0.000041\n",
      "Name: proportion, Length: 24130, dtype: float64\n",
      "FacialExp\n",
      "pos        0.513759\n",
      "neg        0.268753\n",
      "neutral    0.217489\n",
      "Name: proportion, dtype: float64\n",
      "Glasses\n",
      "0                   0.664650\n",
      "1                   0.335143\n",
      "No face detected    0.000207\n",
      "Name: proportion, dtype: float64\n",
      "Gender\n",
      "Man      0.582346\n",
      "Woman    0.417654\n",
      "Name: proportion, dtype: float64\n",
      "Race\n",
      "white              0.322586\n",
      "latino hispanic    0.302694\n",
      "asian              0.262205\n",
      "black              0.112516\n",
      "Name: proportion, dtype: float64\n",
      "photo_title\n",
      "Universidade Federal de Goiás                                                  0.004883\n",
      "Web Summit 2015 - Dublin, Ireland                                              0.002463\n",
      "Universidade Federal de Goiás - UFG                                            0.002038\n",
      "Plenário do Senado                                                             0.001911\n",
      "2016 Legislative Conference - Sunday                                           0.001274\n",
      "                                                                                 ...   \n",
      "CNC Turning - Ben Anderson                                                     0.000042\n",
      "021 - Guajira - 2017_05_23 0327                                                0.000042\n",
      "IMG_5221                                                                       0.000042\n",
      "Vung Tau 2005                                                                  0.000042\n",
      "Malaysia FA Cup 2015 Final Pre-Match Press Conference: Kelantan vs LionsXII    0.000042\n",
      "Name: proportion, Length: 20555, dtype: float64\n",
      "file_url\n",
      "https://drive.google.com/uc?id=1AWJKeBq_4dQXxI1gHKBBaS514JN5rhDF    0.000041\n",
      "https://drive.google.com/uc?id=1A5YlDG7tl-k0IzePd4HyjLtc-wer7_9z    0.000041\n",
      "https://drive.google.com/uc?id=1CPWGXDWbTPz8UZosX5BPy9CpD3rIgZsF    0.000041\n",
      "https://drive.google.com/uc?id=1AYKlZk5UcgLOxTtPfCMKVwMW9PXkeb-6    0.000041\n",
      "https://drive.google.com/uc?id=1Addi8_3UbyFY60zVZ-IPXu8vx-sG_6F5    0.000041\n",
      "                                                                      ...   \n",
      "https://drive.google.com/uc?id=1mkAeqa8xJcLMfrc9NZYbjwgsU7yzXrXQ    0.000041\n",
      "https://drive.google.com/uc?id=1ekGqHahv2SS-IFEUtHla9xb3I74PzOv7    0.000041\n",
      "https://drive.google.com/uc?id=1bvqlIPW6K14HPKsMZ7OlKjg9rCB2KnJt    0.000041\n",
      "https://drive.google.com/uc?id=1X1ayevEEAVS09cGfz4WEOZ1p17kLR6KG    0.000041\n",
      "https://drive.google.com/uc?id=15s_5MQyznGQUdVz-WQWWChXLZt7EIhQA    0.000041\n",
      "Name: proportion, Length: 24130, dtype: float64\n",
      "file_path\n",
      "images1024x1024/00000/00500.png    0.000041\n",
      "images1024x1024/02000/02302.png    0.000041\n",
      "images1024x1024/02000/02345.png    0.000041\n",
      "images1024x1024/02000/02341.png    0.000041\n",
      "images1024x1024/02000/02333.png    0.000041\n",
      "                                     ...   \n",
      "images1024x1024/38000/38743.png    0.000041\n",
      "images1024x1024/38000/38739.png    0.000041\n",
      "images1024x1024/38000/38705.png    0.000041\n",
      "images1024x1024/38000/38689.png    0.000041\n",
      "images1024x1024/16000/16751.png    0.000041\n",
      "Name: proportion, Length: 24130, dtype: float64\n",
      "image_url\n",
      "images1024x1024/00000/00038.png    0.000041\n",
      "images1024x1024/16000/16121.png    0.000041\n",
      "images1024x1024/16000/16130.png    0.000041\n",
      "images1024x1024/16000/16129.png    0.000041\n",
      "images1024x1024/16000/16128.png    0.000041\n",
      "                                     ...   \n",
      "images1024x1024/08000/08079.png    0.000041\n",
      "images1024x1024/08000/08078.png    0.000041\n",
      "images1024x1024/08000/08077.png    0.000041\n",
      "images1024x1024/08000/08076.png    0.000041\n",
      "images1024x1024/24000/24167.png    0.000041\n",
      "Name: proportion, Length: 24130, dtype: float64\n"
     ]
    }
   ],
   "source": [
    "for col in df.columns:\n",
    "    print(df[col].value_counts(normalize=True))"
   ]
  },
  {
   "cell_type": "code",
   "execution_count": 5,
   "metadata": {},
   "outputs": [
    {
     "name": "stdout",
     "output_type": "stream",
     "text": [
      "Unnamed: 0\n",
      "38       0.000041\n",
      "16121    0.000041\n",
      "16130    0.000041\n",
      "16129    0.000041\n",
      "16128    0.000041\n",
      "           ...   \n",
      "8079     0.000041\n",
      "8078     0.000041\n",
      "8077     0.000041\n",
      "8076     0.000041\n",
      "24167    0.000041\n",
      "Name: proportion, Length: 24130, dtype: float64\n",
      "Name\n",
      "00500.png    0.000041\n",
      "02302.png    0.000041\n",
      "02345.png    0.000041\n",
      "02341.png    0.000041\n",
      "02333.png    0.000041\n",
      "               ...   \n",
      "44302.png    0.000041\n",
      "44298.png    0.000041\n",
      "44264.png    0.000041\n",
      "44248.png    0.000041\n",
      "22310.png    0.000041\n",
      "Name: proportion, Length: 24130, dtype: float64\n",
      "FacialExp\n",
      "pos        0.513759\n",
      "neg        0.268753\n",
      "neutral    0.217489\n",
      "Name: proportion, dtype: float64\n",
      "Glasses\n",
      "0                   0.664650\n",
      "1                   0.335143\n",
      "No face detected    0.000207\n",
      "Name: proportion, dtype: float64\n",
      "Gender\n",
      "Man      0.582346\n",
      "Woman    0.417654\n",
      "Name: proportion, dtype: float64\n",
      "Race\n",
      "white              0.322586\n",
      "latino hispanic    0.302694\n",
      "asian              0.262205\n",
      "black              0.112516\n",
      "Name: proportion, dtype: float64\n"
     ]
    }
   ],
   "source": [
    "for col in data.columns:\n",
    "    print(df[col].value_counts(normalize=True))"
   ]
  },
  {
   "cell_type": "code",
   "execution_count": null,
   "metadata": {},
   "outputs": [],
   "source": []
  },
  {
   "cell_type": "code",
   "execution_count": null,
   "metadata": {},
   "outputs": [],
   "source": []
  },
  {
   "cell_type": "code",
   "execution_count": null,
   "metadata": {},
   "outputs": [],
   "source": []
  }
 ],
 "metadata": {
  "kernelspec": {
   "display_name": "Python 3",
   "language": "python",
   "name": "python3"
  },
  "language_info": {
   "codemirror_mode": {
    "name": "ipython",
    "version": 3
   },
   "file_extension": ".py",
   "mimetype": "text/x-python",
   "name": "python",
   "nbconvert_exporter": "python",
   "pygments_lexer": "ipython3",
   "version": "3.10.7"
  },
  "orig_nbformat": 4
 },
 "nbformat": 4,
 "nbformat_minor": 2
}
